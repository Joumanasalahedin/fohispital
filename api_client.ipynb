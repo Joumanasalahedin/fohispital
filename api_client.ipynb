{
  "nbformat": 4,
  "nbformat_minor": 0,
  "metadata": {
    "colab": {
      "provenance": []
    },
    "kernelspec": {
      "name": "python3",
      "display_name": "Python 3"
    },
    "language_info": {
      "name": "python"
    },
    "gpuClass": "standard"
  },
  "cells": [
    {
      "cell_type": "code",
      "source": [
        "# https://44bd-194-95-98-29.eu.ngrok.io/\n",
        "\n",
        "# dir() - Use this in a REPL/Ipython to check what properties and methods are available on an object\n",
        "# type() - Check which data type any expression yields\n",
        "\n",
        "## HTTP Basics\n",
        "## https://developer.mozilla.org/en-US/docs/Web/HTTP/Methods\n",
        "\n",
        "# POST -  Create a resource\n",
        "# GET - Read a resource\n",
        "# PUT - Update a resource\n",
        "# DELETE - Delete a resource\n",
        "\n",
        "# CRUD (Create, Read, Update, Delete)\n",
        "\n",
        "\n",
        "## https://developer.mozilla.org/en-US/docs/Web/HTTP/Status#successful_responses\n",
        "\n",
        "# 200 - Success\n",
        "# 201 - Created\n",
        "# 403 - Forbidden\n",
        "# 404 - Not found\n",
        "# 500 - Internal Server Error\n",
        "\n",
        "import requests\n",
        "\n",
        "response = requests.get('https://44bd-194-95-98-29.eu.ngrok.io')\n",
        "\n",
        "if response.status_code == 200:\n",
        "    patients = response.json()\n",
        "else:\n",
        "    print('Error retrieving data')\n",
        "\n",
        "patients"
      ],
      "metadata": {
        "id": "R4kyDlG6DZsW",
        "colab": {
          "base_uri": "https://localhost:8080/"
        },
        "outputId": "78814d0b-b966-49df-8257-d77818c6daeb"
      },
      "execution_count": null,
      "outputs": [
        {
          "output_type": "execute_result",
          "data": {
            "text/plain": [
              "list"
            ]
          },
          "metadata": {},
          "execution_count": 8
        }
      ]
    },
    {
      "cell_type": "code",
      "source": [
        "print(f\"{'ID':<10} {'Name':<30} {'Gender':<10} {'Birthdate':<10}\")\n",
        "print('-' * 63)\n",
        "\n",
        "# Print table rows\n",
        "for patient in patients:\n",
        "    id = patient['id']\n",
        "    name = f\"{patient['name'][0]['given'][0]} {patient['name'][0]['family']}\"\n",
        "    gender = patient['gender']\n",
        "    birthdate = patient.get('birthDate', '')\n",
        "    print(f\"{id:<10} {name:<30} {gender:<10} {birthdate:<10}\")"
      ],
      "metadata": {
        "colab": {
          "base_uri": "https://localhost:8080/",
          "height": 270
        },
        "id": "lpF4lYeOHA2k",
        "outputId": "b56a1d42-db8f-46cb-cdd6-362a1238a98c"
      },
      "execution_count": null,
      "outputs": [
        {
          "output_type": "stream",
          "name": "stdout",
          "text": [
            "ID         Name                           Gender     Birthdate \n",
            "---------------------------------------------------------------\n"
          ]
        },
        {
          "output_type": "error",
          "ename": "NameError",
          "evalue": "ignored",
          "traceback": [
            "\u001b[0;31m---------------------------------------------------------------------------\u001b[0m",
            "\u001b[0;31mNameError\u001b[0m                                 Traceback (most recent call last)",
            "\u001b[0;32m<ipython-input-1-e33428568064>\u001b[0m in \u001b[0;36m<module>\u001b[0;34m\u001b[0m\n\u001b[1;32m      3\u001b[0m \u001b[0;34m\u001b[0m\u001b[0m\n\u001b[1;32m      4\u001b[0m \u001b[0;31m# Print table rows\u001b[0m\u001b[0;34m\u001b[0m\u001b[0;34m\u001b[0m\u001b[0m\n\u001b[0;32m----> 5\u001b[0;31m \u001b[0;32mfor\u001b[0m \u001b[0mpatient\u001b[0m \u001b[0;32min\u001b[0m \u001b[0mpatients\u001b[0m\u001b[0;34m:\u001b[0m\u001b[0;34m\u001b[0m\u001b[0;34m\u001b[0m\u001b[0m\n\u001b[0m\u001b[1;32m      6\u001b[0m     \u001b[0mid\u001b[0m \u001b[0;34m=\u001b[0m \u001b[0mpatient\u001b[0m\u001b[0;34m[\u001b[0m\u001b[0;34m'id'\u001b[0m\u001b[0;34m]\u001b[0m\u001b[0;34m\u001b[0m\u001b[0;34m\u001b[0m\u001b[0m\n\u001b[1;32m      7\u001b[0m     \u001b[0mname\u001b[0m \u001b[0;34m=\u001b[0m \u001b[0;34mf\"{patient['name'][0]['given'][0]} {patient['name'][0]['family']}\"\u001b[0m\u001b[0;34m\u001b[0m\u001b[0;34m\u001b[0m\u001b[0m\n",
            "\u001b[0;31mNameError\u001b[0m: name 'patients' is not defined"
          ]
        }
      ]
    },
    {
      "cell_type": "code",
      "source": [
        "# Data: \n",
        "import json\n",
        "import os\n",
        "import requests\n",
        "\n",
        "url =  \"https://44bd-194-95-98-29.eu.ngrok.io/patients/create\"\n",
        "\n",
        "\n",
        "with open(\"patient-example-mom.json\") as f:\n",
        "    patient = json.load(f)\n",
        "\n",
        "patient"
      ],
      "metadata": {
        "id": "5VEbLwxZITHK",
        "colab": {
          "base_uri": "https://localhost:8080/"
        },
        "outputId": "92af33f6-b8db-432e-ddf9-55e7c470997e"
      },
      "execution_count": 24,
      "outputs": [
        {
          "output_type": "execute_result",
          "data": {
            "text/plain": [
              "{'resourceType': 'Patient',\n",
              " 'id': 'mom',\n",
              " 'meta': {'lastUpdated': '2012-05-29T23:45:32Z'},\n",
              " 'text': {'status': 'generated',\n",
              "  'div': '<div xmlns=\"http://www.w3.org/1999/xhtml\"><p style=\"border: 1px #661aff solid; background-color: #e6e6ff; padding: 10px;\"><b>Eve Everywoman (OFFICIAL)</b> female, DoB: 1973-05-31 ( Social Security number: 444222222)</p><hr/><table class=\"grid\"><tr><td style=\"background-color: #f3f5da\" title=\"Record is active\">Active:</td><td colspan=\"3\">true</td></tr><tr><td style=\"background-color: #f3f5da\" title=\"Ways to contact the Patient\">Contact Details:</td><td colspan=\"3\"><ul><li>ph: 555-555-2003(WORK)</li><li>2222 Home Street (HOME)</li></ul></td></tr><tr><td style=\"background-color: #f3f5da\" title=\"Patient Links\">Links:</td><td colspan=\"3\"><ul><li>Managing Organization: <a href=\"organization-example.html\">Organization/hl7</a> &quot;Health Level Seven International&quot;</li><li>Also see: <a href=\"relatedperson-example-newborn-mom.html\">RelatedPerson/newborn-mom</a> &quot;Eve EVERYWOMAN&quot;</li></ul></td></tr></table></div>'},\n",
              " 'identifier': [{'type': {'coding': [{'system': 'http://terminology.hl7.org/CodeSystem/v2-0203',\n",
              "      'code': 'SS'}]},\n",
              "   'system': 'http://hl7.org/fhir/sid/us-ssn',\n",
              "   'value': '444222222'}],\n",
              " 'active': True,\n",
              " 'name': [{'use': 'official', 'family': 'Everywoman', 'given': ['Eve']}],\n",
              " 'telecom': [{'system': 'phone', 'value': '555-555-2003', 'use': 'work'}],\n",
              " 'gender': 'female',\n",
              " 'birthDate': '1973-05-31',\n",
              " 'address': [{'use': 'home', 'line': ['2222 Home Street']}],\n",
              " 'managingOrganization': {'reference': 'Organization/hl7'},\n",
              " 'link': [{'other': {'reference': 'RelatedPerson/newborn-mom'},\n",
              "   'type': 'seealso'}]}"
            ]
          },
          "metadata": {},
          "execution_count": 24
        }
      ]
    },
    {
      "cell_type": "code",
      "source": [
        "response = requests.post(url, patient)\n",
        "response"
      ],
      "metadata": {
        "colab": {
          "base_uri": "https://localhost:8080/"
        },
        "id": "S-waA-BGVZ9W",
        "outputId": "3c9c6a80-1468-47fe-c8ba-204d0f487813"
      },
      "execution_count": 28,
      "outputs": [
        {
          "output_type": "execute_result",
          "data": {
            "text/plain": [
              "<Response [422]>"
            ]
          },
          "metadata": {},
          "execution_count": 28
        }
      ]
    },
    {
      "cell_type": "code",
      "source": [],
      "metadata": {
        "id": "rHiHsgRPLTKR",
        "colab": {
          "base_uri": "https://localhost:8080/"
        },
        "outputId": "7c1532bc-eeee-453c-d3b9-5404bea1b15b"
      },
      "execution_count": 26,
      "outputs": [
        {
          "output_type": "execute_result",
          "data": {
            "text/plain": [
              "<Response [422]>"
            ]
          },
          "metadata": {},
          "execution_count": 26
        }
      ]
    },
    {
      "cell_type": "code",
      "source": [],
      "metadata": {
        "id": "5mecckIhW5J2"
      },
      "execution_count": null,
      "outputs": []
    }
  ]
}