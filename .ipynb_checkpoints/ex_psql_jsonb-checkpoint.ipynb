{
 "cells": [
  {
   "cell_type": "code",
   "execution_count": 33,
   "id": "11788745",
   "metadata": {},
   "outputs": [
    {
     "name": "stderr",
     "output_type": "stream",
     "text": [
      "/tmp/ipykernel_4606/213153801.py:7: SADeprecationWarning: The Engine.table_names() method is deprecated and will be removed in a future release.  Please refer to Inspector.get_table_names(). (deprecated since: 1.4)\n",
      "  engine.table_names()\n"
     ]
    },
    {
     "data": {
      "text/plain": [
       "['myTable', 'resource']"
      ]
     },
     "execution_count": 33,
     "metadata": {},
     "output_type": "execute_result"
    }
   ],
   "source": [
    "from sqlalchemy import create_engine\n",
    "import os\n",
    "\n",
    "engine = create_engine(\n",
    "    f\"postgresql://:@/fohispital?host={os.getcwd()}\")\n",
    "\n",
    "engine.table_names()"
   ]
  },
  {
   "cell_type": "code",
   "execution_count": 34,
   "id": "72e5fff6",
   "metadata": {},
   "outputs": [],
   "source": [
    "from sqlalchemy import Column, Integer\n",
    "from sqlalchemy_json import mutable_json_type\n",
    "cc\n",
    "class Resource(Base):\n",
    "    \n",
    "    __tablename__ = 'resource'\n",
    "    \n",
    "    id = Column(Integer, primary_key=True)\n",
    "    config = Column(mutable_json_type(dbtype=JSONB, nested=True))"
   ]
  },
  {
   "cell_type": "code",
   "execution_count": 35,
   "id": "d4616803",
   "metadata": {},
   "outputs": [],
   "source": [
    "from sqlalchemy.orm import sessionmaker\n",
    "\n",
    "Session = sessionmaker(bind = engine)\n",
    "session = Session()"
   ]
  },
  {
   "cell_type": "code",
   "execution_count": 36,
   "id": "6cbfba82",
   "metadata": {},
   "outputs": [],
   "source": [
    "names = session.query(Resource.config['name']).all()"
   ]
  },
  {
   "cell_type": "code",
   "execution_count": 37,
   "id": "34d42503",
   "metadata": {},
   "outputs": [
    {
     "data": {
      "text/plain": [
       "[([{'use': 'usual', 'given': ['Pieter'], 'family': 'van de Heuvel', 'suffix': ['MSc']}],),\n",
       " (None,)]"
      ]
     },
     "execution_count": 37,
     "metadata": {},
     "output_type": "execute_result"
    }
   ],
   "source": [
    "names"
   ]
  },
  {
   "cell_type": "code",
   "execution_count": null,
   "id": "644fb5c1",
   "metadata": {},
   "outputs": [],
   "source": [
    "from sqlalchemy import insert, update, delete, select\n",
    "\n",
    "new_records = [{\"family\": \"Duck\"}]\n",
    "\n",
    "stmt = (\n",
    "    update(Resource)\n",
    "    .filter_by(id=6)\n",
    "    .values(config=new_records[0])\n",
    ")\n",
    "session.execute(stmt)\n",
    "\n"
   ]
  },
  {
   "cell_type": "code",
   "execution_count": null,
   "id": "0dbf4d5a",
   "metadata": {},
   "outputs": [],
   "source": []
  },
  {
   "cell_type": "code",
   "execution_count": null,
   "id": "2f3a5423",
   "metadata": {},
   "outputs": [],
   "source": [
    "session.query(Resource.config['name']).all()"
   ]
  },
  {
   "cell_type": "code",
   "execution_count": null,
   "id": "0d8b805a",
   "metadata": {},
   "outputs": [],
   "source": [
    "from sqlalchemy import func, cast"
   ]
  },
  {
   "cell_type": "code",
   "execution_count": null,
   "id": "650f992c",
   "metadata": {},
   "outputs": [],
   "source": [
    "session.query(Resource).filter(Resource.id == 6).update(\n",
    "        {\n",
    "            \"config\": func.jsonb_insert(\n",
    "                cast(Resource.config, JSONB), \"{-1}\", cast(new_records[0], JSONB), True\n",
    "            )\n",
    "        },\n",
    "        synchronize_session=\"fetch\",\n",
    "    )\n",
    "\n",
    "session.commit()"
   ]
  },
  {
   "cell_type": "code",
   "execution_count": null,
   "id": "34fe6497",
   "metadata": {},
   "outputs": [],
   "source": [
    " session.query(Resource.config['name']).all()"
   ]
  },
  {
   "cell_type": "code",
   "execution_count": null,
   "id": "25800e7f",
   "metadata": {},
   "outputs": [],
   "source": [
    "from typing import Any, Optional\n",
    "import os\n",
    "\n",
    "from fastapi import Depends, FastAPI\n",
    "from pydantic import BaseModel\n",
    "from sqlalchemy import JSON, Column, create_engine, Integer\n",
    "from sqlalchemy.ext.declarative import declarative_base, declared_attr\n",
    "from sqlalchemy.orm import Session, sessionmaker\n",
    "from starlette.requests import Request\n",
    "from starlette.responses import Response\n",
    "\n",
    "SQLALCHEMY_DATABASE_URI = f\"postgresql://:@/fohispital?host={os.getcwd()}\"\n",
    "\n",
    "engine = create_engine(\n",
    "    SQLALCHEMY_DATABASE_URI, connect_args={\"check_same_thread\": False}\n",
    ")\n",
    "SessionLocal = sessionmaker(autocommit=False, autoflush=False, bind=engine)\n",
    "\n",
    "\n",
    "class Item(BaseModel):\n",
    "    id: int\n",
    "    value: Any = None\n",
    "\n",
    "\n",
    "class CustomBase:\n",
    "    # Generate __tablename__ automatically\n",
    "    @declared_attr\n",
    "    def __tablename__(cls):\n",
    "        return cls.__name__.lower()\n",
    "\n",
    "\n",
    "Base = declarative_base(cls=CustomBase)\n",
    "\n",
    "\n",
    "class DBItem(Base):\n",
    "    id = Column(Integer, primary_key=True)\n",
    "    value = Column(JSON)\n",
    "\n",
    "\n",
    "Base.metadata.create_all(bind=engine)\n",
    "\n",
    "db_session = SessionLocal()\n",
    "\n",
    "item = db_session.query(DBItem).first()\n",
    "if not item:\n",
    "    item = DBItem(value={\"foo\": \"Fighters\", \"bar\": 3})\n",
    "    db_session.add(item)\n",
    "    db_session.commit()\n",
    "\n",
    "db_session.close()\n",
    "\n",
    "\n",
    "def get(db_session: Session, *, item_id: int) -> Optional[Item]:\n",
    "    return db_session.query(DBItem).filter(DBItem.id == item_id).first()\n",
    "\n",
    "\n",
    "def get_db(request: Request):\n",
    "    return request.state.db\n",
    "\n",
    "\n",
    "app = FastAPI()\n",
    "\n",
    "\n",
    "@app.get(\"/{item_id}\", response_model=Item)\n",
    "def get_rule(*, db: Session = Depends(get_db), item_id: int):\n",
    "    return get(db, item_id=item_id)\n",
    "\n",
    "\n",
    "@app.middleware(\"http\")\n",
    "async def db_session_middleware(request: Request, call_next):\n",
    "    response = Response(\"Internal server error\", status_code=500)\n",
    "    try:\n",
    "        request.state.db = SessionLocal()\n",
    "        response = await call_next(request)\n",
    "    finally:\n",
    "        request.state.db.close()\n",
    "    return response"
   ]
  }
 ],
 "metadata": {
  "kernelspec": {
   "display_name": "Python 3 (ipykernel)",
   "language": "python",
   "name": "python3"
  },
  "language_info": {
   "codemirror_mode": {
    "name": "ipython",
    "version": 3
   },
   "file_extension": ".py",
   "mimetype": "text/x-python",
   "name": "python",
   "nbconvert_exporter": "python",
   "pygments_lexer": "ipython3",
   "version": "3.10.9"
  }
 },
 "nbformat": 4,
 "nbformat_minor": 5
}
